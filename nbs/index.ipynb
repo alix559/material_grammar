{
 "cells": [
  {
   "cell_type": "code",
   "execution_count": null,
   "metadata": {},
   "outputs": [],
   "source": [
    "#| hide\n",
    "from material_grammar.phonons import *"
   ]
  },
  {
   "cell_type": "markdown",
   "metadata": {},
   "source": [
    "# material_grammar\n",
    "\n",
    "> material science exploration using graph neural networks"
   ]
  },
  {
   "cell_type": "markdown",
   "metadata": {},
   "source": [
    "This file will become your README and also the index of your documentation."
   ]
  },
  {
   "cell_type": "markdown",
   "metadata": {},
   "source": [
    "Documentation can be found hosted on this GitHub [repository][repo]'s [pages][docs]. Additionally you can find package manager specific guidelines on [conda][conda] and [pypi][pypi] respectively.\n",
    "\n",
    "[repo]: https://github.com/alix559/material_grammar\n",
    "[docs]: https://alix559.github.io/material_grammar/\n",
    "[pypi]: https://pypi.org/project/material_grammar/\n",
    "[conda]: https://anaconda.org/alix559/material_grammar"
   ]
  },
  {
   "cell_type": "markdown",
   "metadata": {},
   "source": [
    "If you are new here , please head over to the study plan to have a look at the agenda . If you feel like wetting your feet in this, have a look at  Phonon transport at Interfaces"
   ]
  },
  {
   "cell_type": "markdown",
   "metadata": {},
   "source": [
    "## Usage"
   ]
  },
  {
   "cell_type": "markdown",
   "metadata": {},
   "source": [
    "### Instalation\n",
    "Install latest from the Github [repository](https://github.com/alix559/material_grammar)"
   ]
  },
  {
   "cell_type": "code",
   "execution_count": null,
   "metadata": {},
   "outputs": [],
   "source": [
    "$ pip install git+https://github.com/alix559/material_grammar.git"
   ]
  },
  {
   "cell_type": "code",
   "execution_count": null,
   "metadata": {},
   "outputs": [],
   "source": []
  }
 ],
 "metadata": {
  "kernelspec": {
   "display_name": "mojo-mojo-max-jupyter-kernel",
   "language": "mojo",
   "name": "mojo-mojo-max-jupyter-kernel"
  }
 },
 "nbformat": 4,
 "nbformat_minor": 4
}
