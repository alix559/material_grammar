{
 "cells": [
  {
   "cell_type": "code",
   "execution_count": null,
   "id": "a93eb36e-e38d-4142-b3c7-6da6b5967c9a",
   "metadata": {},
   "outputs": [],
   "source": [
    "#| default_exp phononsmatrix"
   ]
  },
  {
   "cell_type": "markdown",
   "id": "747cd905-bafe-4354-b0fc-d24c761ff856",
   "metadata": {},
   "source": [
    "# Phonon Transport at Interfaces \n",
    "\n",
    ">using the reasearch paper on  Phonon transport at interfaces: [Determining the correct modes of vibration](https://bpb-us-e1.wpmucdn.com/sites.mit.edu/dist/6/1786/files/2019/10/2015-Phonon-Transport-at-Interfaces-Determining-the-Correct-Modes-of-Vibration.pdf) published by Kiarash Gordiz, and Asegun Henry"
   ]
  },
  {
   "cell_type": "markdown",
   "id": "3580184e-232b-4f64-98a5-2c6c52486eb2",
   "metadata": {},
   "source": [
    "### 1. Introduction\n",
    "In solids, atoms are not perfectly still; they vibrate. These vibrations carry heat, much like data packets travel across a network. At ann interface(boundary between two materials), the way vibrations pass through dertermines how well heat flows. \n",
    "\n",
    "Our goal: simulate this \"vibration transport\" using only linear algebra and Python- no advanced physics background needed."
   ]
  },
  {
   "cell_type": "markdown",
   "id": "48ac1ddd-3380-41e6-9606-cbd706f37201",
   "metadata": {},
   "source": [
    "### 2. Equations of Motion -> Matrix Form\n",
    "Imagine each atom is a point mass attached to its neighbours by springs.\n",
    "The physics law is just newtons second law:\n",
    "$M\\ddot{u}(t) = -K u(t)$.\n",
    "* M : diagonal matrix of atomic masses\n",
    "* K : stiffness (spring constant) matrix\n",
    "* u(t) : displacement vector (positions)\n",
    "\n",
    "this is just like solving a second-order system of ODEs. \n",
    "Instead of time-stepping, we assume vibrations oscillate like  $u(t) = U e^{-i \\omega t}$\n",
    "and reduce the ODE to an eigenvalue problem  $\\big( K - \\omega^2 M \\big) U = 0$\n",
    "\n",
    "This tells us the frequencies $\\omega$ (the signal frequencies) and shapes $U$ (like signal modes)."
   ]
  },
  {
   "cell_type": "markdown",
   "id": "373f5359-8f04-49bf-910b-befa443fb748",
   "metadata": {},
   "source": [
    "### 3. The interface problem \n",
    "* Think of a chain of atoms: left half are \"Material A\", right half are \"Material B\".\n",
    "* They are joined in the middle -> the interface.\n",
    "* Each material supports certain vibration patterns(\"phonons\").\n",
    "* At the interface, do vibrations transmit or reflect?\n",
    "\n",
    "This is what we want to compute."
   ]
  },
  {
   "cell_type": "markdown",
   "id": "a7222768-bf8d-4869-9128-7bf2409ace9d",
   "metadata": {},
   "source": [
    "### 4. Lattice Dynamics + Green's Functions\n",
    "\n",
    "We use a standard trick: \n",
    "* Transform the equations into frequency domain.\n",
    "* Replace solving Ordinary differential equations with matrix inversion.\n",
    "\n",
    "The central object is the Green's function:\n",
    "$$\n",
    "G(\\omega) = \\Big[ \\, (\\omega^2 + i\\eta) I - D - \\Sigma_L(\\omega) - \\Sigma_R(\\omega) \\, \\Big]^{-1}\n",
    "$$\n",
    "\n",
    "Where:  \n",
    "\n",
    "- $D = M^{-1/2} K M^{-1/2}$ is the **mass-normalized dynamical matrix**  \n",
    "- $\\Sigma_L, \\Sigma_R$ are the **self-energies** of the left/right leads  \n",
    "- $i\\eta$ is a small numerical damping term (keeps the matrix invertible)  \n",
    "\n",
    "---\n",
    "\n",
    "### Transmission Function\n",
    "\n",
    "Once $G(\\omega)$ is known, the phonon transmission is:\n",
    "\n",
    "$$\n",
    "T(\\omega) = \\mathrm{Tr} \\Big[ \\, \\Gamma_L \\, G \\, \\Gamma_R \\, G^\\dagger \\, \\Big]\n",
    "$$\n",
    "\n",
    "where\n",
    "\n",
    "$$\n",
    "\\Gamma = i \\, \\big( \\Sigma - \\Sigma^\\dagger \\big)\n",
    "$$\n"
   ]
  },
  {
   "cell_type": "markdown",
   "id": "035909ef-9545-49cc-9a88-2171dbc0e818",
   "metadata": {},
   "source": [
    "### 5. Implementing in Python\n",
    "First, lets set up a toy 1D model with two materials. Each atom is a mass, each bond a spring. "
   ]
  },
  {
   "cell_type": "code",
   "execution_count": null,
   "id": "ce8deced-f612-447a-bffb-cb98de215ac0",
   "metadata": {},
   "outputs": [],
   "source": [
    "#| export\n",
    "import numpy as np \n",
    "from numpy.linalg import inv, eig\n",
    "from scipy.linalg import eigh"
   ]
  },
  {
   "cell_type": "markdown",
   "id": "322fe6ea-0b6c-4520-bf28-a7da9bc75985",
   "metadata": {},
   "source": [
    "Build the device region: 8 atoms in a chain. Left half: light atoms with strong springs. Right half: heavy atoms with weak springs."
   ]
  },
  {
   "cell_type": "code",
   "execution_count": null,
   "id": "2f90de95-b718-4bbe-8519-db97d01c0dc1",
   "metadata": {},
   "outputs": [],
   "source": [
    "#| export\n",
    "# Left material\n",
    "mL, kL = 1.0, 1.0\n",
    "# Right material\n",
    "mR, kR = 2.0, 0.6\n",
    "N = 8\n",
    "m = np.array([mL]*(N//2) + [mR]*(N - N //2))"
   ]
  },
  {
   "cell_type": "markdown",
   "id": "eb314574-031a-4b10-8048-875e6d34ed89",
   "metadata": {},
   "source": [
    "### 5a) Mass matrix and mass-normalized dynamical matrix \\(D\\)\n",
    "\n",
    "We convert the force-constant matrix \\(K\\) into the **mass-normalized** dynamical matrix\n",
    "\n",
    "$$\n",
    "D \\;=\\; M^{-1/2}\\, K\\, M^{-1/2},\n",
    "$$\n",
    "\n",
    "where $M=\\mathrm{diag}(m_1,\\dots,m_N)$ comes from the per-atom masses.  \n",
    "This converts $(K-\\omega^2 M)U=0$ into a standard eigenproblem $D U=\\omega^2 U$.\n"
   ]
  },
  {
   "cell_type": "code",
   "execution_count": null,
   "id": "d00848ed-a1ee-4ce7-8ac6-0e96490fb753",
   "metadata": {},
   "outputs": [],
   "source": [
    "#| export\n",
    "def device_force_constants(N: int, k_left: float, k_right: float) -> np.ndarray:\n",
    "    \"\"\"\n",
    "    Build the NxN force-constant (Hessian) matrix K for a 1D chain with an interface.\n",
    "    - First half bonds use k_left\n",
    "    - Second half bonds use k_right\n",
    "    Nearest-neighbor springs only (tridiagonal K).\n",
    "    \"\"\"\n",
    "    K = np.zeros((N, N), dtype=float)\n",
    "\n",
    "    for i in range(N):\n",
    "        # left bond (i-1 <-> i)\n",
    "        if i > 0:\n",
    "            kij = k_left if (i - 1) < (N // 2) else k_right\n",
    "            K[i, i]   += kij\n",
    "            K[i, i-1] -= kij\n",
    "\n",
    "        # right bond (i <-> i+1)\n",
    "        if i < N - 1:\n",
    "            kij = k_left if i < (N // 2) else k_right\n",
    "            K[i, i]   += kij\n",
    "            K[i, i+1] -= kij\n",
    "\n",
    "    return K\n"
   ]
  },
  {
   "cell_type": "code",
   "execution_count": null,
   "id": "1ebbe7c2-48d7-436c-b2ee-42bb53941873",
   "metadata": {},
   "outputs": [
    {
     "data": {
      "text/plain": [
       "array([[ 1.        , -1.        ,  0.        ,  0.        ,  0.        ,\n",
       "         0.        ,  0.        ,  0.        ],\n",
       "       [-1.        ,  2.        , -1.        ,  0.        ,  0.        ,\n",
       "         0.        ,  0.        ,  0.        ],\n",
       "       [ 0.        , -1.        ,  2.        , -1.        ,  0.        ,\n",
       "         0.        ,  0.        ,  0.        ],\n",
       "       [ 0.        ,  0.        , -1.        ,  2.        , -0.70710678,\n",
       "         0.        ,  0.        ,  0.        ],\n",
       "       [ 0.        ,  0.        ,  0.        , -0.70710678,  0.8       ,\n",
       "        -0.3       ,  0.        ,  0.        ],\n",
       "       [ 0.        ,  0.        ,  0.        ,  0.        , -0.3       ,\n",
       "         0.6       , -0.3       ,  0.        ],\n",
       "       [ 0.        ,  0.        ,  0.        ,  0.        ,  0.        ,\n",
       "        -0.3       ,  0.6       , -0.3       ],\n",
       "       [ 0.        ,  0.        ,  0.        ,  0.        ,  0.        ,\n",
       "         0.        , -0.3       ,  0.3       ]])"
      ]
     },
     "execution_count": null,
     "metadata": {},
     "output_type": "execute_result"
    }
   ],
   "source": [
    "#| export\n",
    "K_dev = device_force_constants(N, kL, kR)\n",
    "\n",
    "#Mass-normalize: D = $M^{-1/2} K M^{-1/2}$\n",
    "Minv_sqrt = np.diag(1.0 / np.sqrt(m))\n",
    "D_dev = Minv_sqrt @ K_dev @ Minv_sqrt\n",
    "D_dev"
   ]
  },
  {
   "cell_type": "markdown",
   "id": "3fc2ab59-78a2-4c90-81af-f9ab319e933d",
   "metadata": {},
   "source": [
    "### 6) Leads and surface Green’s functions (Sancho–Rubio)\n",
    "\n",
    "We treat the left/right **semi-infinite** materials (“leads”) via their **surface Green’s functions$$ g_L, g_R$$\n",
    "For a 1D monatomic chain (1 DOF per cell), the mass-normalized on-site and coupling blocks are\n",
    "\n",
    "$$\n",
    "H_0 = \\frac{2k}{m}, \\qquad H_1 = -\\frac{k}{m}.\n",
    "$$\n",
    "\n",
    "We compute the surface Green’s function using the **Sancho–Rubio decimation** (a fixed-point block-matrix iteration).\n"
   ]
  },
  {
   "cell_type": "code",
   "execution_count": null,
   "id": "2c36fb43-1c9f-4237-9792-74eb8d97b686",
   "metadata": {},
   "outputs": [],
   "source": [
    "#| export\n",
    "from numpy.linalg import inv\n",
    "\n",
    "def lead_blocks(mass: float, kspring: float):\n",
    "    h0 = 2.0 * kspring / mass\n",
    "    h1 = -1.0 * kspring / mass\n",
    "    H0 = np.array([[h0]], dtype=float)\n",
    "    H1 = np.array([[h1]], dtype=float)\n",
    "    return H0, H1\n",
    "\n",
    "def sancho_rubio(H0: np.ndarray, H1: np.ndarray, w2: float, eta: float = 1e-12, max_iter: int = 200):\n",
    "    \"\"\"Surface Green's function g^r for a semi-infinite 1D chain (1x1 blocks).\"\"\"\n",
    "    z = w2 + 1j*eta\n",
    "    a = H0.copy()\n",
    "    b = H1.copy()\n",
    "    for _ in range(max_iter):\n",
    "        g = inv(z*np.eye(a.shape[0]) - a)\n",
    "        a_new = a + b @ g @ b.T\n",
    "        b_new = b @ g @ b\n",
    "        if np.allclose(a_new, a) and np.allclose(b_new, b):\n",
    "            a, b = a_new, b_new\n",
    "            break\n",
    "        a, b = a_new, b_new\n",
    "    gsurf = inv(z*np.eye(a.shape[0]) - a)\n",
    "    return gsurf\n",
    "\n",
    "# Build left/right lead blocks\n",
    "H0L, H1L = lead_blocks(mL, kL)\n",
    "H0R, H1R = lead_blocks(mR, kR)\n",
    "\n",
    "def surface_g_mono(w: float, m: float, k: float, eta: float = 1e-6) -> np.ndarray:\n",
    "    \"\"\"\n",
    "    Retarded surface Green's function g^r(ω) for a semi-infinite 1D monatomic chain\n",
    "    in the *mass-normalized* basis.\n",
    "\n",
    "    Chain blocks: H0 = 2k/m, H1 = -k/m (scalar).\n",
    "    g satisfies: (h1^2) g^2 - (z - h0) g + 1 = 0,  z=ω^2+iη.\n",
    "    Pick the root with Im(g) < 0 (retarded condition).\n",
    "    \"\"\"\n",
    "    z  = w**2 + 1j*eta\n",
    "    h0 = 2.0 * k / m\n",
    "    h1 = -1.0 * k / m\n",
    "    a  = z - h0\n",
    "    b2 = h1 * h1\n",
    "\n",
    "    # complex-safe sqrt\n",
    "    root = np.lib.scimath.sqrt(a*a - 4.0*b2)\n",
    "    g1 = (a - root) / (2.0*b2)\n",
    "    g2 = (a + root) / (2.0*b2)\n",
    "\n",
    "    g = g1 if np.imag(g1) < 0 else g2  # retarded: Im(g) < 0\n",
    "    return np.array([[g]], dtype=complex)\n"
   ]
  },
  {
   "cell_type": "markdown",
   "id": "60bb7dc2-9f1e-4c39-866b-337e0de2e938",
   "metadata": {},
   "source": [
    "### 7) Self-energies, device Green’s function, and transmission\n",
    "\n",
    "Couple the device’s end atoms to the leads. In the mass-normalized basis, the coupling vectors are\n",
    "\n",
    "$$\n",
    "V_L[0]=-\\sqrt{k_L/m_L}, \\quad V_R[-1]=-\\sqrt{k_R/m_R}.\n",
    "$$\n",
    "\n",
    "Then compute:\n",
    "- Lead self-energies $\\Sigma_{L,R} = V_{L,R}\\, g_{L,R}\\, V_{L,R}^T$\n",
    "- Broadening matrices $\\Gamma = i(\\Sigma - \\Sigma^\\dagger)$\n",
    "- Device Green’s function $G = \\big[(\\omega^2+i\\eta)I - D - \\Sigma_L - \\Sigma_R\\big]^{-1}$\n",
    "- Transmission $T(\\omega) = \\mathrm{Tr}\\big[\\Gamma_L\\, G\\, \\Gamma_R\\, G^\\dagger\\big]$\n"
   ]
  },
  {
   "cell_type": "code",
   "execution_count": null,
   "id": "a28517ee-03af-4447-a727-b053eacfd096",
   "metadata": {},
   "outputs": [],
   "source": [
    "#| export\n",
    "def gamma_from_sigma(Sigma: np.ndarray) -> np.ndarray:\n",
    "    return 1j * (Sigma - Sigma.conj().T)\n",
    "\n",
    "# Coupling vectors in mass-normalized basis\n",
    "VL = np.zeros((N, 1)); VL[0, 0]  = -np.sqrt(kL / mL)\n",
    "VR = np.zeros((N, 1)); VR[-1, 0] = -np.sqrt(kR / mR)\n",
    "\n",
    "def transmission_at(w: float, eta: float = 1e-6):\n",
    "    # 1x1 surface GFs via closed-form\n",
    "    gL = surface_g_mono(w, mL, kL, eta=eta)\n",
    "    gR = surface_g_mono(w, mR, kR, eta=eta)\n",
    "\n",
    "    SigmaL = VL @ gL @ VL.T\n",
    "    SigmaR = VR @ gR @ VR.T\n",
    "\n",
    "    GammaL = 1j * (SigmaL - SigmaL.conj().T)\n",
    "    GammaR = 1j * (SigmaR - SigmaR.conj().T)\n",
    "\n",
    "    z = (w**2 + 1j*eta)\n",
    "    G = np.linalg.inv(z*np.eye(N) - D_dev - SigmaL - SigmaR)\n",
    "\n",
    "    T = np.real(np.trace(GammaL @ G @ GammaR @ G.conj().T))\n",
    "    return float(T), G, SigmaL, SigmaR\n",
    "\n"
   ]
  },
  {
   "cell_type": "markdown",
   "id": "1073006d-061b-42f3-8ab2-723564f527e8",
   "metadata": {},
   "source": [
    "### 8) Frequency sweep and plot $T(\\omega)$\n",
    "\n",
    "We scan $ \\omega\\ $ and visualize the transmission spectrum.\n"
   ]
  },
  {
   "cell_type": "code",
   "execution_count": null,
   "id": "532ed777-f47c-4882-94e8-c1c53d8de502",
   "metadata": {},
   "outputs": [
    {
     "data": {
      "image/png": "[encoded data removed]",
      "text/plain": [
       "<Figure size 640x480 with 1 Axes>"
      ]
     },
     "metadata": {},
     "output_type": "display_data"
    }
   ],
   "source": [
    "#| export\n",
    "import numpy as np\n",
    "import matplotlib.pyplot as plt\n",
    "\n",
    "ws = np.linspace(0.0, 2.2, 200)\n",
    "Ts = [transmission_at(w)[0] for w in ws]\n",
    "\n",
    "plt.figure()\n",
    "plt.plot(ws, Ts)\n",
    "plt.xlabel(r'$\\omega$')\n",
    "plt.ylabel(r'$T(\\omega)$')\n",
    "plt.title('Phonon transmission across the interface')\n",
    "plt.show()\n"
   ]
  },
  {
   "cell_type": "markdown",
   "id": "6b4f56b0-672d-4610-8862-04510ae602f5",
   "metadata": {},
   "source": [
    "### 9) System eigenmodes (the Gordiz–Henry “correct modes”)\n",
    "\n",
    "Diagonalize the **device’s** dynamical matrix \\(D\\) to obtain eigenpairs\n",
    "$(\\omega_n^2, U_n)$.  \n",
    "These are the **system modes** spanning the interface region (not bulk modes).  \n",
    "They provide a physically correct basis to interpret which patterns couple to the leads.\n",
    "\n",
    "A quick heuristic: modes with larger amplitude on the end atoms couple better to the leads.\n"
   ]
  },
  {
   "cell_type": "code",
   "execution_count": null,
   "id": "337d9577-da87-408a-90e2-06c5a64c083f",
   "metadata": {},
   "outputs": [
    {
     "data": {
      "text/plain": [
       "[(np.float64(0.0), np.float64(0.25)),\n",
       " (np.float64(0.2867), np.float64(0.4894)),\n",
       " (np.float64(0.5418), np.float64(0.4146)),\n",
       " (np.float64(0.7725), np.float64(0.291)),\n",
       " (np.float64(0.989), np.float64(0.1394))]"
      ]
     },
     "execution_count": null,
     "metadata": {},
     "output_type": "execute_result"
    }
   ],
   "source": [
    "#| export\n",
    "from scipy.linalg import eigh\n",
    "\n",
    "w2_vals, U = eigh(D_dev)                     # D U = U diag(w^2)\n",
    "w_vals = np.sqrt(np.clip(w2_vals, 0, None))  # frequencies\n",
    "\n",
    "# Heuristic coupling measure: weight on the two boundary atoms\n",
    "end_coupling_weight = (U[0, :]**2 + U[-1, :]**2)\n",
    "\n",
    "# Peek at the first few modes (frequency and end-coupling weight)\n",
    "list(zip(w_vals[:5].round(4), end_coupling_weight[:5].round(4)))\n"
   ]
  },
  {
   "cell_type": "markdown",
   "id": "a06e3f72-eced-436c-bf33-bc2ef12ce607",
   "metadata": {},
   "source": [
    "### 10) (Optional) Spectral channels via the spectral function\n",
    "\n",
    "For deeper mode analysis, compute the **spectral function** $ A(\\omega)=i(G-G^\\dagger) $\n",
    "and diagonalize it to get frequency-resolved **transport channels**.\n"
   ]
  },
  {
   "cell_type": "code",
   "execution_count": null,
   "id": "74c71f65-f3de-4426-a762-dc2fca2dbabc",
   "metadata": {},
   "outputs": [],
   "source": [
    "#| export\n",
    "def spectral_channels(G: np.ndarray):\n",
    "    A = 1j * (G - G.conj().T)\n",
    "    # Hermitian stabilization for numerical safety\n",
    "    A_herm = 0.5 * (A + A.conj().T)\n",
    "    evals, evecs = eigh(A_herm)\n",
    "    return evals, evecs, A\n"
   ]
  },
  {
   "cell_type": "code",
   "execution_count": null,
   "id": "c4dd7c7b-ad7a-47b1-81d0-7d1645f74513",
   "metadata": {},
   "outputs": [],
   "source": []
  }
 ],
 "metadata": {
  "kernelspec": {
   "display_name": "python3",
   "language": "python",
   "name": "python3"
  }
 },
 "nbformat": 4,
 "nbformat_minor": 5
}
